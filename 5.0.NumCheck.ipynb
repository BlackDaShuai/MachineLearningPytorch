{
 "cells": [
  {
   "cell_type": "code",
   "id": "initial_id",
   "metadata": {
    "collapsed": true,
    "ExecuteTime": {
     "end_time": "2024-10-05T14:12:02.223241Z",
     "start_time": "2024-10-05T14:12:02.205242Z"
    }
   },
   "source": [
    "import torch\n",
    "import numpy as np\n",
    "from torch.utils.data import DataLoader\n",
    "from torchvision import transforms,datasets\n",
    "from torch import nn,optim\n",
    "from torchvision.datasets import MNIST\n",
    "\n",
    "import matplotlib.pyplot as plt\n",
    "print(torch.cuda.is_available())  # 应该返回True\n",
    "print(torch.cuda.device_count())  # 返回可用的GPU数量\n",
    "\n",
    "device = torch.device(\"cuda\" if torch.cuda.is_available() else \"cpu\")\n",
    "print(f'Using device: {device}')\n",
    "torch.cuda.amp\n"
   ],
   "outputs": [
    {
     "name": "stdout",
     "output_type": "stream",
     "text": [
      "True\n",
      "1\n",
      "Using device: cuda\n"
     ]
    },
    {
     "data": {
      "text/plain": [
       "<module 'torch.cuda.amp' from 'C:\\\\Users\\\\BLKDASH\\\\.conda\\\\envs\\\\py310torch24cuda124\\\\lib\\\\site-packages\\\\torch\\\\cuda\\\\amp\\\\__init__.py'>"
      ]
     },
     "execution_count": 92,
     "metadata": {},
     "output_type": "execute_result"
    }
   ],
   "execution_count": 92
  },
  {
   "metadata": {
    "ExecuteTime": {
     "end_time": "2024-10-05T14:12:02.269242Z",
     "start_time": "2024-10-05T14:12:02.228242Z"
    }
   },
   "cell_type": "code",
   "source": [
    "# 载入训练集数据，同时把数据转换为tensor，同时下载数据\n",
    "train_dataset = datasets.MNIST(root='./data', train=True, transform=transforms.ToTensor(), download=True)\n",
    "\n",
    "# 载入测试集数据，同时把数据转换为tensor，同时下载数据\n",
    "test_dataset = datasets.MNIST(root='./data', train=False, transform=transforms.ToTensor(), download=True)\n",
    "\n",
    "# 文件分别为训练集测试集他们分别的数据和标签"
   ],
   "id": "e361a23405836e96",
   "outputs": [],
   "execution_count": 93
  },
  {
   "metadata": {
    "ExecuteTime": {
     "end_time": "2024-10-05T14:12:02.315242Z",
     "start_time": "2024-10-05T14:12:02.288242Z"
    }
   },
   "cell_type": "code",
   "source": [
    "# 批次大小\n",
    "batch_size = 64\n",
    "# 装载数据集,dataloader为数据的装载器，数据来源于dataset=train_dataset, 大小为batch_size=batch_size，方式为随机打乱\n",
    "train_loader = DataLoader(dataset=train_dataset, batch_size=batch_size, shuffle=True, pin_memory=True)\n",
    "test_loader = DataLoader(dataset=test_dataset, batch_size=batch_size, shuffle=True, pin_memory=True)\n",
    "# 展示数据\n",
    "for i,data in enumerate(train_loader):\n",
    "    inputs, labels = data\n",
    "    print(inputs.shape)\n",
    "    print(labels.shape)\n",
    "    break"
   ],
   "id": "63de0bba86aac892",
   "outputs": [
    {
     "name": "stdout",
     "output_type": "stream",
     "text": [
      "torch.Size([64, 1, 28, 28])\n",
      "torch.Size([64])\n"
     ]
    }
   ],
   "execution_count": 94
  },
  {
   "metadata": {
    "ExecuteTime": {
     "end_time": "2024-10-05T14:12:02.346242Z",
     "start_time": "2024-10-05T14:12:02.332242Z"
    }
   },
   "cell_type": "code",
   "source": [
    "class Net(nn.Module):\n",
    "    # 初始化，定义网络结构\n",
    "    def __init__(self):\n",
    "        # 初始化nnModule\n",
    "        super(Net, self).__init__()\n",
    "        # 定义了一个全连接层，参数为输入值和输出值个数\n",
    "        # 由于是非线性回归，一层神经网络无法做到，因此需要加入隐藏层\n",
    "        self.fc1 = nn.Linear(784, 10)\n",
    "        # 设置激活函数\n",
    "        self.softmax = nn.Softmax(dim=1) # 对第一个维度计算概率值\n",
    "        \n",
    "    # 前向计算，定义网络计算\n",
    "    def forward(self, x):\n",
    "        # ([64, 1, 28, 28])->([64,784])\n",
    "        # 由于第0维度取64，所以-1的位置取28*28\n",
    "        x = x.view(x.size()[0], -1)\n",
    "        x = self.fc1(x)\n",
    "        outs = self.softmax(x)\n",
    "        return outs"
   ],
   "id": "ed3ae497980d3470",
   "outputs": [],
   "execution_count": 95
  },
  {
   "metadata": {
    "ExecuteTime": {
     "end_time": "2024-10-05T14:12:02.377320Z",
     "start_time": "2024-10-05T14:12:02.365242Z"
    }
   },
   "cell_type": "code",
   "source": [
    "LR = 0.005\n",
    "# 定义模型\n",
    "model = Net()\n",
    "model.to(device)\n",
    "# 定义损失函数,均方误差损失\n",
    "mse_loss = nn.MSELoss()\n",
    "\n",
    "# 优化器\n",
    "optimizer = optim.Adam(model.parameters(), lr=LR)"
   ],
   "id": "94c6a9fed0bada0f",
   "outputs": [],
   "execution_count": 96
  },
  {
   "metadata": {
    "ExecuteTime": {
     "end_time": "2024-10-05T14:12:02.424096Z",
     "start_time": "2024-10-05T14:12:02.412096Z"
    }
   },
   "cell_type": "code",
   "source": [
    "def train():\n",
    "    for i,data in enumerate(train_loader):\n",
    "        # 获得一个批次的数据和标签\n",
    "        inputs, labels = data\n",
    "        inputs, labels = inputs.to(device), labels.to(device)\n",
    "        out = model(inputs)\n",
    "        # （64）to（64,1）\n",
    "        labels = labels.reshape(-1,1)\n",
    "        # to onehot\n",
    "        # tensor.scatter(dim, index, src)\n",
    "        # dim:对哪个维度进行独热编码\n",
    "        # index:要将src中对应的值放到tensor的哪个位置\n",
    "        # src:插入index的数值\n",
    "        one_hot = torch.zeros(inputs.shape[0],10).to(device).scatter(1,labels,1)\n",
    "        # 计算loss\n",
    "        loss = mse_loss(out, one_hot)\n",
    "        # 梯度清零，计算梯度，修改权值\n",
    "        optimizer.zero_grad()\n",
    "        loss.backward()\n",
    "        optimizer.step()\n",
    "\n",
    "def test():\n",
    "    correct = 0\n",
    "    for i, data in enumerate(test_loader):\n",
    "        inputs, labels = data\n",
    "        inputs, labels = inputs.to(device), labels.to(device)\n",
    "        out = model(inputs)\n",
    "        # 计算out中，最大值所在位置\n",
    "        _, predicted = torch.max(out.data, 1)\n",
    "        \n",
    "        correct += (predicted == labels).sum()\n",
    "    print(' ',correct.item())\n",
    "    print(\"Test acc:{0}\".format(correct.item() / len(test_loader.dataset)))\n",
    "        "
   ],
   "id": "ee8a602f45963fd1",
   "outputs": [],
   "execution_count": 97
  },
  {
   "metadata": {
    "ExecuteTime": {
     "end_time": "2024-10-05T14:13:47.024616Z",
     "start_time": "2024-10-05T14:12:02.459096Z"
    }
   },
   "cell_type": "code",
   "source": [
    "for epoch in range(10):\n",
    "    \n",
    "    train()\n",
    "    print('epoch:', epoch,' train over')\n",
    "    \n",
    "    test()\n",
    "    LR = LR * 0.9\n",
    "    \n",
    "    \n",
    "# 一共1w张测试集"
   ],
   "id": "80e173109b3dff31",
   "outputs": [
    {
     "name": "stdout",
     "output_type": "stream",
     "text": [
      "epoch: 0  train over\n",
      "  9226\n",
      "Test acc:0.9226\n",
      "epoch: 1  train over\n",
      "  9268\n",
      "Test acc:0.9268\n",
      "epoch: 2  train over\n",
      "  9280\n",
      "Test acc:0.928\n",
      "epoch: 3  train over\n",
      "  9277\n",
      "Test acc:0.9277\n",
      "epoch: 4  train over\n",
      "  9308\n",
      "Test acc:0.9308\n",
      "epoch: 5  train over\n",
      "  9283\n",
      "Test acc:0.9283\n",
      "epoch: 6  train over\n",
      "  9312\n",
      "Test acc:0.9312\n",
      "epoch: 7  train over\n",
      "  9321\n",
      "Test acc:0.9321\n",
      "epoch: 8  train over\n",
      "  9322\n",
      "Test acc:0.9322\n",
      "epoch: 9  train over\n",
      "  9324\n",
      "Test acc:0.9324\n"
     ]
    }
   ],
   "execution_count": 98
  },
  {
   "metadata": {
    "ExecuteTime": {
     "end_time": "2024-10-05T14:13:47.055322Z",
     "start_time": "2024-10-05T14:13:47.043324Z"
    }
   },
   "cell_type": "code",
   "source": "",
   "id": "771ce60dddc2b05",
   "outputs": [],
   "execution_count": null
  }
 ],
 "metadata": {
  "kernelspec": {
   "display_name": "Python 3",
   "language": "python",
   "name": "python3"
  },
  "language_info": {
   "codemirror_mode": {
    "name": "ipython",
    "version": 2
   },
   "file_extension": ".py",
   "mimetype": "text/x-python",
   "name": "python",
   "nbconvert_exporter": "python",
   "pygments_lexer": "ipython2",
   "version": "2.7.6"
  }
 },
 "nbformat": 4,
 "nbformat_minor": 5
}
