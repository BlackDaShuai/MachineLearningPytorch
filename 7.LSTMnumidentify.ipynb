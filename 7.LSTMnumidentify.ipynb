{
 "cells": [
  {
   "cell_type": "code",
   "id": "initial_id",
   "metadata": {
    "collapsed": true,
    "ExecuteTime": {
     "end_time": "2024-10-07T08:22:30.273161Z",
     "start_time": "2024-10-07T08:22:30.253161Z"
    }
   },
   "source": [
    "import torch\n",
    "import numpy as np\n",
    "from torch.utils.data import DataLoader\n",
    "from torchvision import transforms,datasets\n",
    "from torch import nn,optim\n",
    "from torchvision.datasets import MNIST\n",
    "\n",
    "import matplotlib.pyplot as plt\n",
    "print(torch.cuda.is_available())  # 应该返回True\n",
    "print(torch.cuda.device_count())  # 返回可用的GPU数量\n",
    "\n",
    "device = torch.device(\"cuda\" if torch.cuda.is_available() else \"cpu\")\n",
    "print(f'Using device: {device}')\n",
    "# torch.cuda.amp\n"
   ],
   "outputs": [
    {
     "name": "stdout",
     "output_type": "stream",
     "text": [
      "True\n",
      "1\n",
      "Using device: cuda\n"
     ]
    }
   ],
   "execution_count": 20
  },
  {
   "metadata": {
    "ExecuteTime": {
     "end_time": "2024-10-07T08:22:30.335161Z",
     "start_time": "2024-10-07T08:22:30.288166Z"
    }
   },
   "cell_type": "code",
   "source": [
    "# 载入训练集数据，同时把数据转换为tensor，同时下载数据\n",
    "train_dataset = datasets.MNIST(root='./data', train=True, transform=transforms.ToTensor(), download=True)\n",
    "\n",
    "# 载入测试集数据，同时把数据转换为tensor，同时下载数据\n",
    "test_dataset = datasets.MNIST(root='./data', train=False, transform=transforms.ToTensor(), download=True)\n",
    "\n",
    "# 文件分别为训练集测试集他们分别的数据和标签"
   ],
   "id": "e361a23405836e96",
   "outputs": [],
   "execution_count": 21
  },
  {
   "metadata": {
    "ExecuteTime": {
     "end_time": "2024-10-07T08:22:38.496770Z",
     "start_time": "2024-10-07T08:22:30.354164Z"
    }
   },
   "cell_type": "code",
   "source": [
    "# 批次大小\n",
    "batch_size = 64\n",
    "# 装载数据集,dataloader为数据的装载器，数据来源于dataset=train_dataset, 大小为batch_size=batch_size，方式为随机打乱\n",
    "train_loader = DataLoader(dataset=train_dataset, batch_size=batch_size, shuffle=True, pin_memory=True, num_workers=8)\n",
    "test_loader = DataLoader(dataset=test_dataset, batch_size=batch_size, shuffle=True, pin_memory=True, num_workers=8)\n",
    "# 展示数据\n",
    "for i,data in enumerate(train_loader):\n",
    "    inputs, labels = data\n",
    "    print(inputs.shape)\n",
    "    print(labels.shape)\n",
    "    break"
   ],
   "id": "63de0bba86aac892",
   "outputs": [
    {
     "name": "stdout",
     "output_type": "stream",
     "text": [
      "torch.Size([64, 1, 28, 28])\n",
      "torch.Size([64])\n"
     ]
    }
   ],
   "execution_count": 22
  },
  {
   "metadata": {
    "ExecuteTime": {
     "end_time": "2024-10-07T08:22:38.527879Z",
     "start_time": "2024-10-07T08:22:38.514849Z"
    }
   },
   "cell_type": "code",
   "source": [
    "Dop = 0.2 # 0.1的神经元不工作\n",
    "class LSTM(nn.Module):\n",
    "    # 初始化，定义网络结构\n",
    "    def __init__(self):\n",
    "        # 初始化nnModule\n",
    "        super(LSTM, self).__init__()\n",
    "        # input：输入特征的大小\n",
    "        # hidden：LSTM模块的数量\n",
    "        # layers：隐藏层的层数\n",
    "        # lstm默认input(seq_len, batch, feature)\n",
    "        # batchfirst后，变成(feature, seq_len, batch)\n",
    "        self.lstm = nn.LSTM(\n",
    "            input_size=28,\n",
    "            hidden_size=64,\n",
    "            num_layers=1,\n",
    "            batch_first=True\n",
    "        )\n",
    "        self.fc = nn.Linear(64, 10)\n",
    "        self.softmax = nn.Softmax(dim=1)\n",
    "        \n",
    "        \n",
    "        \n",
    "    # 前向计算，定义网络计算\n",
    "    def forward(self, x):\n",
    "        x = x.view(-1, 28, 28)\n",
    "        # 三个输出\n",
    "        # output:[batch,seq_len,hidden_size]，包含每个序列的输出结果\n",
    "        # seq_len取27时，就是最后一个结果\n",
    "        # 虽然LSTW的batch_first为True，但是h_n,c_n的第0个维度还是numlayers\n",
    "        # h_n:[num_layers, batch, hidden_size]，只包含最后一个序列的输出结果hidden\n",
    "        # c_n:[num_layers, batch, hidden_size]，只包含最后一个序列的输出结果cell\n",
    "        output, (h_n,c_n) = self.lstm(x)\n",
    "        #output_last = self.fc(output[:, -1, :])  #只要最后一个结果\n",
    "        output_last = h_n[-1, :, :]  #只要最后一个结果\n",
    "        x = self.fc(output_last)\n",
    "        outs = self.softmax(x)\n",
    "        \n",
    "        return outs"
   ],
   "id": "ed3ae497980d3470",
   "outputs": [],
   "execution_count": 23
  },
  {
   "metadata": {
    "ExecuteTime": {
     "end_time": "2024-10-07T08:22:38.559423Z",
     "start_time": "2024-10-07T08:22:38.545910Z"
    }
   },
   "cell_type": "code",
   "source": [
    "LR = 0.001\n",
    "# 定义模型\n",
    "model = LSTM()\n",
    "model.to(device)\n",
    "# 定义损失函数,交叉熵损失\n",
    "cross_entropy = nn.CrossEntropyLoss()\n",
    "# 优化器，设置L2正则化\n",
    "optimizer = optim.Adam(model.parameters(), lr=LR ,weight_decay=0.0001)"
   ],
   "id": "94c6a9fed0bada0f",
   "outputs": [],
   "execution_count": 24
  },
  {
   "metadata": {
    "ExecuteTime": {
     "end_time": "2024-10-07T08:22:38.590559Z",
     "start_time": "2024-10-07T08:22:38.577049Z"
    }
   },
   "cell_type": "code",
   "source": [
    "def train():\n",
    "    # 训练状态\n",
    "    model.train()\n",
    "    for i,data in enumerate(train_loader):\n",
    "        # 获得一个批次的数据和标签\n",
    "        inputs, labels = data\n",
    "        inputs, labels = inputs.to(device), labels.to(device)\n",
    "        out = model(inputs)\n",
    "        # 交叉熵无需使用独热编码\n",
    "        loss = cross_entropy(out, labels)\n",
    "        # 梯度清零，计算梯度，修改权值\n",
    "        optimizer.zero_grad()\n",
    "        loss.backward()\n",
    "        optimizer.step()\n",
    "\n",
    "def test():\n",
    "    # 测试状态\n",
    "    model.eval()\n",
    "    # 计算测试集的准确率\n",
    "    correct = 0\n",
    "    for i, data in enumerate(test_loader):\n",
    "        inputs, labels = data\n",
    "        inputs, labels = inputs.to(device), labels.to(device)\n",
    "        out = model(inputs)\n",
    "        # 计算out中，最大值所在位置\n",
    "        _, predicted = torch.max(out.data, 1)\n",
    "        \n",
    "        correct += (predicted == labels).sum()\n",
    "    print(\"Test acc:{0}\".format(correct.item() / len(test_loader.dataset)))\n",
    "    \n",
    "    \n",
    "    # 计算训练集的准确率\n",
    "    correct = 0\n",
    "    for i, data in enumerate(train_loader):\n",
    "        inputs, labels = data\n",
    "        inputs, labels = inputs.to(device), labels.to(device)\n",
    "        out = model(inputs)\n",
    "        # 计算out中，最大值所在位置\n",
    "        _, predicted = torch.max(out.data, 1)\n",
    "        \n",
    "        correct += (predicted == labels).sum()\n",
    "    print(\"Train acc:{0}\".format(correct.item() / len(train_loader.dataset)))\n",
    "        "
   ],
   "id": "ee8a602f45963fd1",
   "outputs": [],
   "execution_count": 25
  },
  {
   "metadata": {
    "ExecuteTime": {
     "end_time": "2024-10-07T08:27:22.479568Z",
     "start_time": "2024-10-07T08:22:38.608126Z"
    }
   },
   "cell_type": "code",
   "source": [
    "for epoch in range(10):\n",
    "    \n",
    "    train()\n",
    "    print('epoch:', epoch,' train over')\n",
    "    \n",
    "    test()\n",
    "    \n",
    "    if LR >= 0.00001:\n",
    "        LR = LR * 0.3\n",
    "    \n",
    "    \n",
    "# 一共1w张测试集"
   ],
   "id": "80e173109b3dff31",
   "outputs": [
    {
     "name": "stdout",
     "output_type": "stream",
     "text": [
      "epoch: 0  train over\n",
      "Test acc:0.8269\n",
      "Train acc:0.8154666666666667\n",
      "epoch: 1  train over\n",
      "Test acc:0.8467\n",
      "Train acc:0.8456666666666667\n",
      "epoch: 2  train over\n",
      "Test acc:0.9222\n",
      "Train acc:0.9228333333333333\n",
      "epoch: 3  train over\n",
      "Test acc:0.9429\n",
      "Train acc:0.9381833333333334\n",
      "epoch: 4  train over\n",
      "Test acc:0.9385\n",
      "Train acc:0.9405833333333333\n",
      "epoch: 5  train over\n",
      "Test acc:0.9588\n",
      "Train acc:0.96035\n",
      "epoch: 6  train over\n",
      "Test acc:0.9597\n",
      "Train acc:0.9622333333333334\n",
      "epoch: 7  train over\n",
      "Test acc:0.9602\n",
      "Train acc:0.96325\n",
      "epoch: 8  train over\n",
      "Test acc:0.9586\n",
      "Train acc:0.9597833333333333\n",
      "epoch: 9  train over\n",
      "Test acc:0.9638\n",
      "Train acc:0.9645333333333334\n"
     ]
    }
   ],
   "execution_count": 26
  },
  {
   "metadata": {},
   "cell_type": "markdown",
   "source": "# 保存模型",
   "id": "b89e5519956697da"
  },
  {
   "metadata": {
    "ExecuteTime": {
     "end_time": "2024-10-07T08:30:24.556834Z",
     "start_time": "2024-10-07T08:30:24.546835Z"
    }
   },
   "cell_type": "code",
   "source": "torch.save(model.state_dict(), 'modle/LSTMnum.pth')",
   "id": "380887b3da0a62c5",
   "outputs": [],
   "execution_count": 28
  }
 ],
 "metadata": {
  "kernelspec": {
   "display_name": "Python 3",
   "language": "python",
   "name": "python3"
  },
  "language_info": {
   "codemirror_mode": {
    "name": "ipython",
    "version": 2
   },
   "file_extension": ".py",
   "mimetype": "text/x-python",
   "name": "python",
   "nbconvert_exporter": "python",
   "pygments_lexer": "ipython2",
   "version": "2.7.6"
  }
 },
 "nbformat": 4,
 "nbformat_minor": 5
}
