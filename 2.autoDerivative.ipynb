{
 "cells": [
  {
   "cell_type": "code",
   "id": "initial_id",
   "metadata": {
    "collapsed": true,
    "ExecuteTime": {
     "end_time": "2024-10-05T11:42:11.582276Z",
     "start_time": "2024-10-05T11:42:08.773913Z"
    }
   },
   "source": [
    "import torch\n",
    "# 参数设置为true后可以计算梯度\n",
    "x = torch.ones((2,2),requires_grad=True)\n",
    "x"
   ],
   "outputs": [
    {
     "data": {
      "text/plain": [
       "tensor([[1., 1.],\n",
       "        [1., 1.]], requires_grad=True)"
      ]
     },
     "execution_count": 1,
     "metadata": {},
     "output_type": "execute_result"
    }
   ],
   "execution_count": 1
  },
  {
   "metadata": {
    "ExecuteTime": {
     "end_time": "2024-10-05T11:42:12.220474Z",
     "start_time": "2024-10-05T11:42:12.206476Z"
    }
   },
   "cell_type": "code",
   "source": [
    "y = x + 2\n",
    "y"
   ],
   "id": "d0484961627d22ef",
   "outputs": [
    {
     "data": {
      "text/plain": [
       "tensor([[3., 3.],\n",
       "        [3., 3.]], grad_fn=<AddBackward0>)"
      ]
     },
     "execution_count": 2,
     "metadata": {},
     "output_type": "execute_result"
    }
   ],
   "execution_count": 2
  },
  {
   "metadata": {
    "ExecuteTime": {
     "end_time": "2024-10-05T11:42:12.436060Z",
     "start_time": "2024-10-05T11:42:12.422061Z"
    }
   },
   "cell_type": "code",
   "source": [
    "z = y * y *3\n",
    "z"
   ],
   "id": "dd36d4f045b3a075",
   "outputs": [
    {
     "data": {
      "text/plain": [
       "tensor([[27., 27.],\n",
       "        [27., 27.]], grad_fn=<MulBackward0>)"
      ]
     },
     "execution_count": 3,
     "metadata": {},
     "output_type": "execute_result"
    }
   ],
   "execution_count": 3
  },
  {
   "metadata": {
    "ExecuteTime": {
     "end_time": "2024-10-05T11:42:12.687483Z",
     "start_time": "2024-10-05T11:42:12.673483Z"
    }
   },
   "cell_type": "code",
   "source": [
    "out = z.mean()\n",
    "out"
   ],
   "id": "2b6316ba969efbbf",
   "outputs": [
    {
     "data": {
      "text/plain": [
       "tensor(27., grad_fn=<MeanBackward0>)"
      ]
     },
     "execution_count": 4,
     "metadata": {},
     "output_type": "execute_result"
    }
   ],
   "execution_count": 4
  },
  {
   "metadata": {
    "ExecuteTime": {
     "end_time": "2024-10-05T11:42:12.811800Z",
     "start_time": "2024-10-05T11:42:12.763741Z"
    }
   },
   "cell_type": "code",
   "source": [
    "# out 对 x 进行求导后，x的导数为4.5\n",
    "out.backward()\n",
    "print(x.grad)\n"
   ],
   "id": "3ccbd9510d653ed0",
   "outputs": [
    {
     "name": "stdout",
     "output_type": "stream",
     "text": [
      "tensor([[4.5000, 4.5000],\n",
      "        [4.5000, 4.5000]])\n"
     ]
    }
   ],
   "execution_count": 5
  },
  {
   "metadata": {
    "ExecuteTime": {
     "end_time": "2024-10-05T11:42:12.965605Z",
     "start_time": "2024-10-05T11:42:12.951585Z"
    }
   },
   "cell_type": "code",
   "source": "",
   "id": "4d4c059d56356227",
   "outputs": [],
   "execution_count": null
  }
 ],
 "metadata": {
  "kernelspec": {
   "display_name": "Python 3",
   "language": "python",
   "name": "python3"
  },
  "language_info": {
   "codemirror_mode": {
    "name": "ipython",
    "version": 2
   },
   "file_extension": ".py",
   "mimetype": "text/x-python",
   "name": "python",
   "nbconvert_exporter": "python",
   "pygments_lexer": "ipython2",
   "version": "2.7.6"
  }
 },
 "nbformat": 4,
 "nbformat_minor": 5
}
