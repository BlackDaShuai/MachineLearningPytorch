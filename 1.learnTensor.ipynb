{
 "cells": [
  {
   "cell_type": "code",
   "id": "initial_id",
   "metadata": {
    "collapsed": true,
    "ExecuteTime": {
     "end_time": "2024-10-05T07:32:49.966899Z",
     "start_time": "2024-10-05T07:32:49.953900Z"
    }
   },
   "source": [
    "import torch\n",
    "import numpy as np\n",
    "\n",
    "data = [[1, 2], [3, 4]]\n",
    "x_data = torch.tensor(data)\n",
    "\n",
    "x_ones = torch.ones_like(x_data)  # retains the properties of x_data\n",
    "\n",
    "print(x_ones)\n",
    "x_ones.size()"
   ],
   "outputs": [
    {
     "name": "stdout",
     "output_type": "stream",
     "text": [
      "tensor([[1, 1],\n",
      "        [1, 1]])\n"
     ]
    },
    {
     "data": {
      "text/plain": [
       "torch.Size([2, 2])"
      ]
     },
     "execution_count": 7,
     "metadata": {},
     "output_type": "execute_result"
    }
   ],
   "execution_count": 7
  },
  {
   "metadata": {
    "ExecuteTime": {
     "end_time": "2024-10-05T07:30:06.953789Z",
     "start_time": "2024-10-05T07:30:06.917789Z"
    }
   },
   "cell_type": "code",
   "source": [
    "shape = (2, 3,)\n",
    "rand_tensor = torch.rand(shape)\n",
    "ones_tensor = torch.ones(shape)\n",
    "zeros_tensor = torch.zeros(shape)\n",
    "\n",
    "print(f\"Random Tensor: \\n {rand_tensor} \\n\")\n",
    "print(f\"Ones Tensor: \\n {ones_tensor} \\n\")\n",
    "print(f\"Zeros Tensor: \\n {zeros_tensor}\")"
   ],
   "id": "52e3d66e371b4e87",
   "outputs": [
    {
     "name": "stdout",
     "output_type": "stream",
     "text": [
      "Random Tensor: \n",
      " tensor([[0.0304, 0.9618, 0.7650],\n",
      "        [0.5545, 0.4663, 0.8882]]) \n",
      "\n",
      "Ones Tensor: \n",
      " tensor([[1., 1., 1.],\n",
      "        [1., 1., 1.]]) \n",
      "\n",
      "Zeros Tensor: \n",
      " tensor([[0., 0., 0.],\n",
      "        [0., 0., 0.]])\n"
     ]
    }
   ],
   "execution_count": 3
  },
  {
   "metadata": {
    "ExecuteTime": {
     "end_time": "2024-10-05T07:30:07.015786Z",
     "start_time": "2024-10-05T07:30:07.002789Z"
    }
   },
   "cell_type": "code",
   "source": [
    "tensor = torch.rand(3,4)\n",
    "\n",
    "print(f\"Shape of tensor: {tensor.shape}\")\n",
    "print(f\"Datatype of tensor: {tensor.dtype}\")\n",
    "print(f\"Device tensor is stored on: {tensor.device}\")"
   ],
   "id": "19e443d814e9d566",
   "outputs": [
    {
     "name": "stdout",
     "output_type": "stream",
     "text": [
      "Shape of tensor: torch.Size([3, 4])\n",
      "Datatype of tensor: torch.float32\n",
      "Device tensor is stored on: cpu\n"
     ]
    }
   ],
   "execution_count": 4
  },
  {
   "metadata": {},
   "cell_type": "markdown",
   "source": "张量数据的生成：",
   "id": "e2e83855382513d1"
  },
  {
   "metadata": {
    "ExecuteTime": {
     "end_time": "2024-10-05T07:44:10.087864Z",
     "start_time": "2024-10-05T07:44:10.074708Z"
    }
   },
   "cell_type": "code",
   "source": [
    "# 生成\n",
    "shape = (2, 3,)\n",
    "rand_tensor = torch.rand(shape)\n",
    "ones_tensor = torch.ones(shape)\n",
    "zeros_tensor = torch.zeros(shape)\n",
    "\n",
    "print(f\"Random Tensor: \\n {rand_tensor} \\n\")\n",
    "print(f\"Ones Tensor: \\n {ones_tensor} \\n\")\n",
    "print(f\"Zeros Tensor: \\n {zeros_tensor}\")"
   ],
   "id": "29e978ac6b195e99",
   "outputs": [
    {
     "name": "stdout",
     "output_type": "stream",
     "text": [
      "Random Tensor: \n",
      " tensor([[0.6282, 0.8932, 0.1331],\n",
      "        [0.5864, 0.1007, 0.7546]]) \n",
      "\n",
      "Ones Tensor: \n",
      " tensor([[1., 1., 1.],\n",
      "        [1., 1., 1.]]) \n",
      "\n",
      "Zeros Tensor: \n",
      " tensor([[0., 0., 0.],\n",
      "        [0., 0., 0.]])\n"
     ]
    }
   ],
   "execution_count": 8
  },
  {
   "metadata": {},
   "cell_type": "markdown",
   "source": "randlike用法：",
   "id": "2c423921934774cc"
  },
  {
   "metadata": {
    "ExecuteTime": {
     "end_time": "2024-10-05T07:45:14.625470Z",
     "start_time": "2024-10-05T07:45:14.610424Z"
    }
   },
   "cell_type": "code",
   "source": [
    "data = [[1, 2],[3, 4]]\n",
    "x_data = torch.tensor(data)\n",
    "\n",
    "x_ones = torch.ones_like(x_data) # retains the properties of x_data\n",
    "print(f\"Ones Tensor: \\n {x_ones} \\n\")\n",
    "\n",
    "# x_rand = torch.rand_like(x_data) # overrides the datatype of x_data\n",
    "# print(f\"Random Tensor: \\n {x_rand} \\n\")\n",
    "# 报错：无法写入\n",
    "\n",
    "x_rand = torch.rand_like(x_data, dtype=torch.float) # overrides the datatype of x_data\n",
    "print(f\"Random Tensor: \\n {x_rand} \\n\")\n",
    "# 成功执行"
   ],
   "id": "98066e03a489131b",
   "outputs": [
    {
     "name": "stdout",
     "output_type": "stream",
     "text": [
      "Ones Tensor: \n",
      " tensor([[1, 1],\n",
      "        [1, 1]]) \n",
      "\n",
      "Random Tensor: \n",
      " tensor([[0.1228, 0.5976],\n",
      "        [0.1253, 0.2314]]) \n",
      "\n"
     ]
    }
   ],
   "execution_count": 10
  },
  {
   "metadata": {
    "ExecuteTime": {
     "end_time": "2024-10-05T07:58:27.396032Z",
     "start_time": "2024-10-05T07:58:27.386032Z"
    }
   },
   "cell_type": "code",
   "source": [
    "# reshape\n",
    "temp = torch.randint(1,5,(3,4))\n",
    "print(temp)\n",
    "print(temp.view(12))\n",
    "print(temp.view(4,3))"
   ],
   "id": "18fa9612298dabe1",
   "outputs": [
    {
     "name": "stdout",
     "output_type": "stream",
     "text": [
      "tensor([[1, 4, 3, 3],\n",
      "        [2, 3, 3, 1],\n",
      "        [2, 1, 1, 3]])\n",
      "tensor([1, 4, 3, 3, 2, 3, 3, 1, 2, 1, 1, 3])\n",
      "tensor([[1, 4, 3],\n",
      "        [3, 2, 3],\n",
      "        [3, 1, 2],\n",
      "        [1, 1, 3]])\n"
     ]
    }
   ],
   "execution_count": 22
  },
  {
   "metadata": {
    "ExecuteTime": {
     "end_time": "2024-10-05T07:58:31.034330Z",
     "start_time": "2024-10-05T07:58:31.016331Z"
    }
   },
   "cell_type": "code",
   "source": "np.array(temp)",
   "id": "5ed7812089f61a45",
   "outputs": [
    {
     "data": {
      "text/plain": [
       "array([[1, 4, 3, 3],\n",
       "       [2, 3, 3, 1],\n",
       "       [2, 1, 1, 3]], dtype=int64)"
      ]
     },
     "execution_count": 23,
     "metadata": {},
     "output_type": "execute_result"
    }
   ],
   "execution_count": 23
  }
 ],
 "metadata": {
  "kernelspec": {
   "display_name": "Python 3",
   "language": "python",
   "name": "python3"
  },
  "language_info": {
   "codemirror_mode": {
    "name": "ipython",
    "version": 2
   },
   "file_extension": ".py",
   "mimetype": "text/x-python",
   "name": "python",
   "nbconvert_exporter": "python",
   "pygments_lexer": "ipython2",
   "version": "2.7.6"
  }
 },
 "nbformat": 4,
 "nbformat_minor": 5
}
