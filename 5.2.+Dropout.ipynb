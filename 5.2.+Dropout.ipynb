{
 "cells": [
  {
   "cell_type": "code",
   "id": "initial_id",
   "metadata": {
    "collapsed": true,
    "ExecuteTime": {
     "end_time": "2024-10-06T03:09:32.507700Z",
     "start_time": "2024-10-06T03:09:25.934306Z"
    }
   },
   "source": [
    "import torch\n",
    "import numpy as np\n",
    "from torch.utils.data import DataLoader\n",
    "from torchvision import transforms,datasets\n",
    "from torch import nn,optim\n",
    "from torchvision.datasets import MNIST\n",
    "\n",
    "import matplotlib.pyplot as plt\n",
    "print(torch.cuda.is_available())  # 应该返回True\n",
    "print(torch.cuda.device_count())  # 返回可用的GPU数量\n",
    "\n",
    "device = torch.device(\"cuda\" if torch.cuda.is_available() else \"cpu\")\n",
    "print(f'Using device: {device}')\n",
    "torch.cuda.amp\n"
   ],
   "outputs": [
    {
     "name": "stdout",
     "output_type": "stream",
     "text": [
      "True\n",
      "1\n",
      "Using device: cuda\n"
     ]
    },
    {
     "data": {
      "text/plain": [
       "<module 'torch.cuda.amp' from 'C:\\\\Users\\\\BLKDASH\\\\.conda\\\\envs\\\\py310torch24cuda124\\\\lib\\\\site-packages\\\\torch\\\\cuda\\\\amp\\\\__init__.py'>"
      ]
     },
     "execution_count": 1,
     "metadata": {},
     "output_type": "execute_result"
    }
   ],
   "execution_count": 1
  },
  {
   "metadata": {
    "ExecuteTime": {
     "end_time": "2024-10-06T03:09:32.696699Z",
     "start_time": "2024-10-06T03:09:32.592701Z"
    }
   },
   "cell_type": "code",
   "source": [
    "# 载入训练集数据，同时把数据转换为tensor，同时下载数据\n",
    "train_dataset = datasets.MNIST(root='./data', train=True, transform=transforms.ToTensor(), download=True)\n",
    "\n",
    "# 载入测试集数据，同时把数据转换为tensor，同时下载数据\n",
    "test_dataset = datasets.MNIST(root='./data', train=False, transform=transforms.ToTensor(), download=True)\n",
    "\n",
    "# 文件分别为训练集测试集他们分别的数据和标签"
   ],
   "id": "e361a23405836e96",
   "outputs": [],
   "execution_count": 2
  },
  {
   "metadata": {
    "ExecuteTime": {
     "end_time": "2024-10-06T03:09:33.072137Z",
     "start_time": "2024-10-06T03:09:32.824800Z"
    }
   },
   "cell_type": "code",
   "source": [
    "# 批次大小\n",
    "batch_size = 64\n",
    "# 装载数据集,dataloader为数据的装载器，数据来源于dataset=train_dataset, 大小为batch_size=batch_size，方式为随机打乱\n",
    "train_loader = DataLoader(dataset=train_dataset, batch_size=batch_size, shuffle=True, pin_memory=True)\n",
    "test_loader = DataLoader(dataset=test_dataset, batch_size=batch_size, shuffle=True, pin_memory=True)\n",
    "# 展示数据\n",
    "for i,data in enumerate(train_loader):\n",
    "    inputs, labels = data\n",
    "    print(inputs.shape)\n",
    "    print(labels.shape)\n",
    "    break"
   ],
   "id": "63de0bba86aac892",
   "outputs": [
    {
     "name": "stdout",
     "output_type": "stream",
     "text": [
      "torch.Size([64, 1, 28, 28])\n",
      "torch.Size([64])\n"
     ]
    }
   ],
   "execution_count": 3
  },
  {
   "metadata": {
    "ExecuteTime": {
     "end_time": "2024-10-06T03:09:33.119136Z",
     "start_time": "2024-10-06T03:09:33.106135Z"
    }
   },
   "cell_type": "code",
   "source": [
    "Dop = 0.1 # 0.1的神经元不工作\n",
    "class Net(nn.Module):\n",
    "    # 初始化，定义网络结构\n",
    "    def __init__(self):\n",
    "        # 初始化nnModule\n",
    "        super(Net, self).__init__()\n",
    "        # 定义了一个全连接层，参数为输入值和输出值个数\n",
    "        # 由于是非线性回归，一层神经网络无法做到，因此需要加入隐藏层\n",
    "        self.layer1 = nn.Sequential(nn.Linear(784,500),nn.Dropout( p = Dop),nn.Tanh())\n",
    "        self.layer2 = nn.Sequential(nn.Linear(500,100),nn.Dropout( p = Dop),nn.Tanh())\n",
    "        self.layer3 = nn.Sequential(nn.Linear(100,10),nn.Softmax(dim=1))\n",
    "        \n",
    "    # 前向计算，定义网络计算\n",
    "    def forward(self, x):\n",
    "        # ([64, 1, 28, 28])->([64,784])\n",
    "        # 由于第0维度取64，所以-1的位置取28*28\n",
    "        x = x.view(x.size()[0], -1)\n",
    "        x = self.layer1(x)\n",
    "        x = self.layer2(x)\n",
    "        outs = self.layer3(x)\n",
    "        return outs"
   ],
   "id": "ed3ae497980d3470",
   "outputs": [],
   "execution_count": 4
  },
  {
   "metadata": {
    "ExecuteTime": {
     "end_time": "2024-10-06T03:09:33.181782Z",
     "start_time": "2024-10-06T03:09:33.155699Z"
    }
   },
   "cell_type": "code",
   "source": [
    "LR = 0.001\n",
    "# 定义模型\n",
    "model = Net()\n",
    "model.to(device)\n",
    "# 定义损失函数,交叉熵损失\n",
    "cross_entropy = nn.CrossEntropyLoss()\n",
    "# 优化器，设置L2正则化\n",
    "optimizer = optim.Adam(model.parameters(), lr=LR ,weight_decay=0.0001)"
   ],
   "id": "94c6a9fed0bada0f",
   "outputs": [],
   "execution_count": 5
  },
  {
   "metadata": {
    "ExecuteTime": {
     "end_time": "2024-10-06T03:09:33.243860Z",
     "start_time": "2024-10-06T03:09:33.216862Z"
    }
   },
   "cell_type": "code",
   "source": [
    "def train():\n",
    "    # 训练状态\n",
    "    model.train()\n",
    "    for i,data in enumerate(train_loader):\n",
    "        # 获得一个批次的数据和标签\n",
    "        inputs, labels = data\n",
    "        inputs, labels = inputs.to(device), labels.to(device)\n",
    "        out = model(inputs)\n",
    "        # 交叉熵无需使用独热编码\n",
    "        loss = cross_entropy(out, labels)\n",
    "        # 梯度清零，计算梯度，修改权值\n",
    "        optimizer.zero_grad()\n",
    "        loss.backward()\n",
    "        optimizer.step()\n",
    "\n",
    "def test():\n",
    "    model.eval()\n",
    "    \n",
    "    # 计算测试集的准确率\n",
    "    correct = 0\n",
    "    for i, data in enumerate(test_loader):\n",
    "        inputs, labels = data\n",
    "        inputs, labels = inputs.to(device), labels.to(device)\n",
    "        out = model(inputs)\n",
    "        # 计算out中，最大值所在位置\n",
    "        _, predicted = torch.max(out.data, 1)\n",
    "        \n",
    "        correct += (predicted == labels).sum()\n",
    "    print(\"Test acc:{0}\".format(correct.item() / len(test_loader.dataset)))\n",
    "    \n",
    "    \n",
    "    # 计算训练集的准确率\n",
    "    correct = 0\n",
    "    for i, data in enumerate(train_loader):\n",
    "        inputs, labels = data\n",
    "        inputs, labels = inputs.to(device), labels.to(device)\n",
    "        out = model(inputs)\n",
    "        # 计算out中，最大值所在位置\n",
    "        _, predicted = torch.max(out.data, 1)\n",
    "        \n",
    "        correct += (predicted == labels).sum()\n",
    "    print(\"Train acc:{0}\".format(correct.item() / len(train_loader.dataset)))\n",
    "        "
   ],
   "id": "ee8a602f45963fd1",
   "outputs": [],
   "execution_count": 6
  },
  {
   "metadata": {
    "ExecuteTime": {
     "end_time": "2024-10-06T03:15:18.992193Z",
     "start_time": "2024-10-06T03:09:33.278973Z"
    }
   },
   "cell_type": "code",
   "source": [
    "for epoch in range(20):\n",
    "    \n",
    "    train()\n",
    "    print('epoch:', epoch,' train over')\n",
    "    \n",
    "    test()\n",
    "    LR = LR * 0.9\n",
    "    \n",
    "    \n",
    "# 一共1w张测试集"
   ],
   "id": "80e173109b3dff31",
   "outputs": [
    {
     "name": "stdout",
     "output_type": "stream",
     "text": [
      "epoch: 0  train over\n",
      "Test acc:0.9371\n",
      "Train acc:0.93715\n",
      "epoch: 1  train over\n",
      "Test acc:0.9433\n",
      "Train acc:0.9471333333333334\n",
      "epoch: 2  train over\n",
      "Test acc:0.9539\n",
      "Train acc:0.9566166666666667\n",
      "epoch: 3  train over\n",
      "Test acc:0.9555\n",
      "Train acc:0.96165\n",
      "epoch: 4  train over\n",
      "Test acc:0.9597\n",
      "Train acc:0.9668\n",
      "epoch: 5  train over\n",
      "Test acc:0.958\n",
      "Train acc:0.9624666666666667\n",
      "epoch: 6  train over\n",
      "Test acc:0.9691\n",
      "Train acc:0.9752666666666666\n",
      "epoch: 7  train over\n",
      "Test acc:0.9609\n",
      "Train acc:0.9691166666666666\n",
      "epoch: 8  train over\n",
      "Test acc:0.9642\n",
      "Train acc:0.97155\n",
      "epoch: 9  train over\n",
      "Test acc:0.9685\n",
      "Train acc:0.9746833333333333\n",
      "epoch: 10  train over\n",
      "Test acc:0.9705\n",
      "Train acc:0.97575\n",
      "epoch: 11  train over\n",
      "Test acc:0.9714\n",
      "Train acc:0.97815\n",
      "epoch: 12  train over\n",
      "Test acc:0.9721\n",
      "Train acc:0.9799333333333333\n",
      "epoch: 13  train over\n",
      "Test acc:0.9738\n",
      "Train acc:0.9784166666666667\n",
      "epoch: 14  train over\n",
      "Test acc:0.9726\n",
      "Train acc:0.9790833333333333\n",
      "epoch: 15  train over\n",
      "Test acc:0.9713\n",
      "Train acc:0.9787333333333333\n",
      "epoch: 16  train over\n",
      "Test acc:0.9708\n",
      "Train acc:0.9790333333333333\n",
      "epoch: 17  train over\n",
      "Test acc:0.9646\n",
      "Train acc:0.97375\n",
      "epoch: 18  train over\n",
      "Test acc:0.9677\n",
      "Train acc:0.9752\n",
      "epoch: 19  train over\n",
      "Test acc:0.9733\n",
      "Train acc:0.98035\n"
     ]
    }
   ],
   "execution_count": 7
  },
  {
   "metadata": {
    "ExecuteTime": {
     "end_time": "2024-10-06T07:10:05.985021Z",
     "start_time": "2024-10-06T07:10:05.815906Z"
    }
   },
   "cell_type": "code",
   "source": "",
   "id": "771ce60dddc2b05",
   "outputs": [
    {
     "name": "stdout",
     "output_type": "stream",
     "text": [
      "tensor([[ 2.9713, -1.4538, -1.8591],\n",
      "        [-0.9816, -1.4334,  3.5974]], device='cuda:0')\n"
     ]
    }
   ],
   "execution_count": 8
  }
 ],
 "metadata": {
  "kernelspec": {
   "display_name": "Python 3",
   "language": "python",
   "name": "python3"
  },
  "language_info": {
   "codemirror_mode": {
    "name": "ipython",
    "version": 2
   },
   "file_extension": ".py",
   "mimetype": "text/x-python",
   "name": "python",
   "nbconvert_exporter": "python",
   "pygments_lexer": "ipython2",
   "version": "2.7.6"
  }
 },
 "nbformat": 4,
 "nbformat_minor": 5
}
